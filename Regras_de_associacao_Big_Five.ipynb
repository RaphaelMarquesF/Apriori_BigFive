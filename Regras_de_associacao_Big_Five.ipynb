{
  "nbformat": 4,
  "nbformat_minor": 0,
  "metadata": {
    "colab": {
      "name": "Regras_de_associacao_Big_Five.ipynb",
      "provenance": [],
      "collapsed_sections": [],
      "toc_visible": true,
      "authorship_tag": "ABX9TyMXyk+ZhzUr0M1xkupwKnY2",
      "include_colab_link": true
    },
    "kernelspec": {
      "name": "python3",
      "display_name": "Python 3"
    }
  },
  "cells": [
    {
      "cell_type": "markdown",
      "metadata": {
        "id": "view-in-github",
        "colab_type": "text"
      },
      "source": [
        "<a href=\"https://colab.research.google.com/github/RaphaelMarquesF/Apriori_BigFive/blob/main/Regras_de_associacao_Big_Five.ipynb\" target=\"_parent\"><img src=\"https://colab.research.google.com/assets/colab-badge.svg\" alt=\"Open In Colab\"/></a>"
      ]
    },
    {
      "cell_type": "markdown",
      "metadata": {
        "id": "KURpebE6dDpe"
      },
      "source": [
        "#Regras de associação no Big-Five\r\n",
        "\r\n",
        "texto e código por **Raphael Marques**\r\n",
        "\r\n",
        "*  Linked-in: https://www.linkedin.com/in/raphael-marques-f/ \r\n",
        "*  Instagram: https://www.instagram.com/raphael.marques.psi/ \r\n",
        "\r\n",
        "O presente arquivo contém,resumidamente, as seguintes partes:\r\n",
        "\r\n",
        "*  Sobre o Big-Five: o que são os cinco fatores da personalidade;\r\n",
        "*  Descrição do Arquivo: como está o arquivo, cabeçalho e dados;\r\n",
        "*  Histogramas gerais dos cinco fatores: como está distribuido os cinco fatores pelos resultados;\r\n",
        "*  Criando Tipos: trabalhando os dados para aplicar no algoritmo;\r\n",
        "*  O Algoritmo Apriori: explicação do algoritmo;\r\n",
        "*  Discussão: o que o resultado indica;"
      ]
    },
    {
      "cell_type": "markdown",
      "metadata": {
        "id": "uTlCGjUJPyZK"
      },
      "source": [
        "## Sobre o Big Five\r\n",
        "\r\n",
        "O Big-Five é a medida de traços de personalidade mais bem aceitos atualmente. Chama-se Big-Five ou \"Cinco Grandes\" pois os traços são:\r\n",
        "\r\n",
        "*  **Openness:** traduzido como \"Abertura para experiencias\". Indica o nível de abertura do indivíduo para novas experiências;\r\n",
        "*  **Agreeableness:** traduzido como \"Agradabilidade\". Indica no nível de empatia, cooperação do indivíduo.\r\n",
        "*   **Emotional Stability:** traduzido com \"Estabilidade emocional\" ou Neuroticismo, indica o nível de resistência ao estresse.\r\n",
        "*  **Conscientiousness:** traduzido como \"Conscienciosidade\", indica tendencia para comportamentos disciplinados, ao comportamento planejado. \r\n",
        "*  **Extraversion:** traduzido como \"Extroversão\", a tendencia de envolvimento com o mundo exterior.\r\n",
        "\r\n",
        "\r\n",
        "Fonte:\r\n",
        "https://pt.wikipedia.org/wiki/Big_Five_(psicologia)"
      ]
    },
    {
      "cell_type": "markdown",
      "metadata": {
        "id": "sN17MOF4qGlH"
      },
      "source": [
        "#Descrição do arquivo\n",
        "\n",
        "Os dados de personalidade contêm o cabeçalho descrito a seguir:\n",
        "\n",
        "**Userid**: A id do usuário.\n",
        "\n",
        "**Openness**: uma pontuação de avaliação (de 1 a 7) avaliando a tendência do usuário de preferir novas experiências. 1 significa que o usuário tem tendência a NÃO preferir novas experiências, 7 significa que o usuário tem tendência a preferir novas experiências.\n",
        "\n",
        "**Agreeableness**: uma pontuação de avaliação (de 1 a 7) avaliando a tendência do usuário de ser compassivo e cooperativo em vez de desconfiado e antagônico em relação aos outros. 1 significa que o usuário tem tendência a NÃO ser compassivo e cooperativo. 7 significa que o usuário tem tendência a ser compassivo e cooperativo.\n",
        "\n",
        "**Emotional Stability**: uma pontuação de avaliação (de 1 a 7) avaliando a tendência do usuário a ter estresse psicológico. 1 significa que o usuário tem tendência a ter estresse psicológico e 7 significa que o usuário tem tendência a NÃO ter estresse psicológico.\n",
        "\n",
        "**Conscientiousness**: uma pontuação de avaliação (de 1 a 7) avaliando a tendência do usuário de ser organizado e confiável e de mostrar autodisciplina. 1 significa que o usuário não tem essa tendência e 7 significa que o usuário tem essa tendência.\n",
        "\n",
        "**Extraversion**:uma pontuação de avaliação (de 1 a 7) avaliando a tendência do usuário de ser extrovertido. 1 significa que o usuário não tem essa tendência e 7 significa que o usuário tem essa tendência.\n",
        "\n",
        "**Assigned Metric**: um dos seguintes (serendipidade, popularidade, diversidade, padrão). Cada usuário, além de ser avaliado sua personalidade, foi avaliado suas preferências por uma lista de 12 filmes manipulados com acaso, popularidade, valor de diversidade ou nenhum (opção padrão).\n",
        "\n",
        "**Assigned Condition**: um dos seguintes (alto, médio, baixo). Com base na métrica atribuída e nesta condição atribuída, a lista de filmes foi gerada para os usuários. Por exemplo: se a métrica atribuída for serendipidade e a condição atribuída for alta, os filmes na lista são altamente aleatórios. Documentamos como manipulamos a lista de filmes com base na condição atribuída e na métrica atribuída na página 6 de nosso artigo de pesquisa mencionado acima.\n",
        "\n",
        "**Movie_x (x is from 1 to 12)**: A lista é composta por 12 filmes. Esses campos contêm os ids dos doze filmes da lista.\n",
        "\n",
        "**Predictedratingx (x is from 1 to 12)**: a avaliação prevista do movie_x correspondente para o usuário.\n",
        "\n",
        "**Is_Personalized**: A resposta do usuário à pergunta Esta lista é personalizada para mim. Os usuários responderam na escala Likert de 5 pontos. (1: Discordo totalmente, 5: Concordo totalmente).\n",
        "\n",
        "**Enjoy_watching**: A resposta do usuário à pergunta Esta lista contém filmes que acho que gostei de assistir. Os usuários responderam na escala Likert de 5 pontos. (1: Discordo totalmente, 5: Concordo totalmente)\n",
        "\n",
        "Link do artigo relacionado ao trabalho\n",
        "\n",
        "https://link.springer.com/article/10.1007/s10796-017-9782-y\n",
        "\n",
        "The ratings.csv file contains the header as described as follows:\n",
        "\n",
        "userId: the hashed user_id.\n",
        "movieId: the id of the movie that the user (corresponding to userId) rated.\n",
        "rating: the rating (from 0.5 to 5 stars) provided by the user.\n",
        "tstamp: when the user rated the movie.\n",
        "\n",
        "\n",
        "Fonte: Kaggle\n",
        "\n",
        "https://www.kaggle.com/arslanali4343/top-personality-dataset/notebooks"
      ]
    },
    {
      "cell_type": "code",
      "metadata": {
        "id": "qAKRL_CGYt6l"
      },
      "source": [
        "# Importando as bibliotecas necessárias\n",
        "import pandas as pd\n",
        "import numpy as np\n",
        "import seaborn as sns\n"
      ],
      "execution_count": 1,
      "outputs": []
    },
    {
      "cell_type": "code",
      "metadata": {
        "id": "OgwFtM3bltxx",
        "colab": {
          "base_uri": "https://localhost:8080/"
        },
        "outputId": "7341b0cc-0698-4bfb-c158-d67f385aab86"
      },
      "source": [
        "#abrindo o arquivo\n",
        "from google.colab import drive\n",
        "drive.mount('/content/drive')"
      ],
      "execution_count": 2,
      "outputs": [
        {
          "output_type": "stream",
          "text": [
            "Mounted at /content/drive\n"
          ],
          "name": "stdout"
        }
      ]
    },
    {
      "cell_type": "code",
      "metadata": {
        "id": "mEnMAHPxirTS"
      },
      "source": [
        "source = \"/content/drive/MyDrive/Colab Notebooks/BIG FIVE/2018-personality-data.csv\"\n"
      ],
      "execution_count": 3,
      "outputs": []
    },
    {
      "cell_type": "markdown",
      "metadata": {
        "id": "telPoVqAXUOF"
      },
      "source": [
        "##abrindo dados"
      ]
    },
    {
      "cell_type": "code",
      "metadata": {
        "id": "CXEwENEjZVmX"
      },
      "source": [
        "# Abrindo no Pandas DataFrame\n",
        "dados = pd.read_csv(source)\n"
      ],
      "execution_count": 4,
      "outputs": []
    },
    {
      "cell_type": "code",
      "metadata": {
        "id": "jfrx_qfNc2BV",
        "colab": {
          "base_uri": "https://localhost:8080/"
        },
        "outputId": "63184472-e336-4bea-f409-2932fdcfe73d"
      },
      "source": [
        "# 1834 linhas e 34 colunas\n",
        "dados.shape "
      ],
      "execution_count": 5,
      "outputs": [
        {
          "output_type": "execute_result",
          "data": {
            "text/plain": [
              "(1834, 34)"
            ]
          },
          "metadata": {
            "tags": []
          },
          "execution_count": 5
        }
      ]
    },
    {
      "cell_type": "code",
      "metadata": {
        "id": "5Ct4jZZtaYDu",
        "colab": {
          "base_uri": "https://localhost:8080/",
          "height": 232
        },
        "outputId": "f1e9ac72-d55d-43e6-eca8-6d371445a679"
      },
      "source": [
        "# Cabeçalho\r\n",
        "dados.head()"
      ],
      "execution_count": 6,
      "outputs": [
        {
          "output_type": "execute_result",
          "data": {
            "text/html": [
              "<div>\n",
              "<style scoped>\n",
              "    .dataframe tbody tr th:only-of-type {\n",
              "        vertical-align: middle;\n",
              "    }\n",
              "\n",
              "    .dataframe tbody tr th {\n",
              "        vertical-align: top;\n",
              "    }\n",
              "\n",
              "    .dataframe thead th {\n",
              "        text-align: right;\n",
              "    }\n",
              "</style>\n",
              "<table border=\"1\" class=\"dataframe\">\n",
              "  <thead>\n",
              "    <tr style=\"text-align: right;\">\n",
              "      <th></th>\n",
              "      <th>userid</th>\n",
              "      <th>openness</th>\n",
              "      <th>agreeableness</th>\n",
              "      <th>emotional_stability</th>\n",
              "      <th>conscientiousness</th>\n",
              "      <th>extraversion</th>\n",
              "      <th>assigned metric</th>\n",
              "      <th>assigned condition</th>\n",
              "      <th>movie_1</th>\n",
              "      <th>predicted_rating_1</th>\n",
              "      <th>movie_2</th>\n",
              "      <th>predicted_rating_2</th>\n",
              "      <th>movie_3</th>\n",
              "      <th>predicted_rating_3</th>\n",
              "      <th>movie_4</th>\n",
              "      <th>predicted_rating_4</th>\n",
              "      <th>movie_5</th>\n",
              "      <th>predicted_rating_5</th>\n",
              "      <th>movie_6</th>\n",
              "      <th>predicted_rating_6</th>\n",
              "      <th>movie_7</th>\n",
              "      <th>predicted_rating_7</th>\n",
              "      <th>movie_8</th>\n",
              "      <th>predicted_rating_8</th>\n",
              "      <th>movie_9</th>\n",
              "      <th>predicted_rating_9</th>\n",
              "      <th>movie_10</th>\n",
              "      <th>predicted_rating_10</th>\n",
              "      <th>movie_11</th>\n",
              "      <th>predicted_rating_11</th>\n",
              "      <th>movie_12</th>\n",
              "      <th>predicted_rating_12</th>\n",
              "      <th>is_personalized</th>\n",
              "      <th>enjoy_watching</th>\n",
              "    </tr>\n",
              "  </thead>\n",
              "  <tbody>\n",
              "    <tr>\n",
              "      <th>0</th>\n",
              "      <td>8e7cebf9a234c064b75016249f2ac65e</td>\n",
              "      <td>5.0</td>\n",
              "      <td>2.0</td>\n",
              "      <td>3.0</td>\n",
              "      <td>2.5</td>\n",
              "      <td>6.5</td>\n",
              "      <td>serendipity</td>\n",
              "      <td>high</td>\n",
              "      <td>77658</td>\n",
              "      <td>4.410466</td>\n",
              "      <td>95858</td>\n",
              "      <td>4.271995</td>\n",
              "      <td>115713</td>\n",
              "      <td>4.611922</td>\n",
              "      <td>26674</td>\n",
              "      <td>4.459407</td>\n",
              "      <td>93040</td>\n",
              "      <td>4.147292</td>\n",
              "      <td>117533</td>\n",
              "      <td>4.098206</td>\n",
              "      <td>108979</td>\n",
              "      <td>4.064843</td>\n",
              "      <td>112582</td>\n",
              "      <td>4.149100</td>\n",
              "      <td>120138</td>\n",
              "      <td>4.244817</td>\n",
              "      <td>121372</td>\n",
              "      <td>4.396004</td>\n",
              "      <td>127152</td>\n",
              "      <td>4.120456</td>\n",
              "      <td>95311</td>\n",
              "      <td>4.053847</td>\n",
              "      <td>4</td>\n",
              "      <td>4</td>\n",
              "    </tr>\n",
              "    <tr>\n",
              "      <th>1</th>\n",
              "      <td>77c7d756a093150d4377720abeaeef76</td>\n",
              "      <td>7.0</td>\n",
              "      <td>4.0</td>\n",
              "      <td>6.0</td>\n",
              "      <td>5.5</td>\n",
              "      <td>4.0</td>\n",
              "      <td>all</td>\n",
              "      <td>default</td>\n",
              "      <td>94959</td>\n",
              "      <td>4.207280</td>\n",
              "      <td>1247</td>\n",
              "      <td>4.266540</td>\n",
              "      <td>953</td>\n",
              "      <td>4.211322</td>\n",
              "      <td>2010</td>\n",
              "      <td>4.408341</td>\n",
              "      <td>1234</td>\n",
              "      <td>4.090358</td>\n",
              "      <td>5291</td>\n",
              "      <td>4.202424</td>\n",
              "      <td>106642</td>\n",
              "      <td>4.113912</td>\n",
              "      <td>1209</td>\n",
              "      <td>4.094422</td>\n",
              "      <td>56782</td>\n",
              "      <td>4.019599</td>\n",
              "      <td>5618</td>\n",
              "      <td>3.963953</td>\n",
              "      <td>969</td>\n",
              "      <td>4.174188</td>\n",
              "      <td>1232</td>\n",
              "      <td>4.334877</td>\n",
              "      <td>2</td>\n",
              "      <td>3</td>\n",
              "    </tr>\n",
              "    <tr>\n",
              "      <th>2</th>\n",
              "      <td>b7e8a92987a530cc368719a0e60e26a3</td>\n",
              "      <td>4.0</td>\n",
              "      <td>3.0</td>\n",
              "      <td>4.5</td>\n",
              "      <td>2.0</td>\n",
              "      <td>2.5</td>\n",
              "      <td>serendipity</td>\n",
              "      <td>medium</td>\n",
              "      <td>110501</td>\n",
              "      <td>4.868064</td>\n",
              "      <td>77658</td>\n",
              "      <td>4.710444</td>\n",
              "      <td>101895</td>\n",
              "      <td>5.029360</td>\n",
              "      <td>1260</td>\n",
              "      <td>4.698602</td>\n",
              "      <td>5971</td>\n",
              "      <td>4.660769</td>\n",
              "      <td>98491</td>\n",
              "      <td>4.962319</td>\n",
              "      <td>926</td>\n",
              "      <td>4.706864</td>\n",
              "      <td>1204</td>\n",
              "      <td>4.645191</td>\n",
              "      <td>2288</td>\n",
              "      <td>4.823212</td>\n",
              "      <td>3307</td>\n",
              "      <td>4.676756</td>\n",
              "      <td>1172</td>\n",
              "      <td>4.649281</td>\n",
              "      <td>1212</td>\n",
              "      <td>4.744990</td>\n",
              "      <td>2</td>\n",
              "      <td>2</td>\n",
              "    </tr>\n",
              "    <tr>\n",
              "      <th>3</th>\n",
              "      <td>92561f21446e017dd6b68b94b23ad5b7</td>\n",
              "      <td>5.5</td>\n",
              "      <td>5.5</td>\n",
              "      <td>4.0</td>\n",
              "      <td>4.5</td>\n",
              "      <td>4.0</td>\n",
              "      <td>popularity</td>\n",
              "      <td>medium</td>\n",
              "      <td>2905</td>\n",
              "      <td>4.526371</td>\n",
              "      <td>2843</td>\n",
              "      <td>4.456451</td>\n",
              "      <td>3629</td>\n",
              "      <td>4.668444</td>\n",
              "      <td>3022</td>\n",
              "      <td>4.676067</td>\n",
              "      <td>3307</td>\n",
              "      <td>4.530360</td>\n",
              "      <td>1211</td>\n",
              "      <td>4.292660</td>\n",
              "      <td>3462</td>\n",
              "      <td>4.341634</td>\n",
              "      <td>5291</td>\n",
              "      <td>4.261166</td>\n",
              "      <td>3030</td>\n",
              "      <td>4.425689</td>\n",
              "      <td>1281</td>\n",
              "      <td>4.479921</td>\n",
              "      <td>940</td>\n",
              "      <td>4.355061</td>\n",
              "      <td>905</td>\n",
              "      <td>4.317927</td>\n",
              "      <td>3</td>\n",
              "      <td>3</td>\n",
              "    </tr>\n",
              "    <tr>\n",
              "      <th>4</th>\n",
              "      <td>030001ac2145a938b07e686a35a2d638</td>\n",
              "      <td>5.5</td>\n",
              "      <td>5.5</td>\n",
              "      <td>3.5</td>\n",
              "      <td>4.5</td>\n",
              "      <td>2.5</td>\n",
              "      <td>popularity</td>\n",
              "      <td>medium</td>\n",
              "      <td>2905</td>\n",
              "      <td>4.526371</td>\n",
              "      <td>2843</td>\n",
              "      <td>4.456451</td>\n",
              "      <td>3629</td>\n",
              "      <td>4.668444</td>\n",
              "      <td>3022</td>\n",
              "      <td>4.676067</td>\n",
              "      <td>3307</td>\n",
              "      <td>4.530360</td>\n",
              "      <td>1211</td>\n",
              "      <td>4.292660</td>\n",
              "      <td>3462</td>\n",
              "      <td>4.341634</td>\n",
              "      <td>5291</td>\n",
              "      <td>4.261166</td>\n",
              "      <td>3030</td>\n",
              "      <td>4.425689</td>\n",
              "      <td>1281</td>\n",
              "      <td>4.479921</td>\n",
              "      <td>940</td>\n",
              "      <td>4.355061</td>\n",
              "      <td>905</td>\n",
              "      <td>4.317927</td>\n",
              "      <td>2</td>\n",
              "      <td>3</td>\n",
              "    </tr>\n",
              "  </tbody>\n",
              "</table>\n",
              "</div>"
            ],
            "text/plain": [
              "                             userid  ...   enjoy_watching \n",
              "0  8e7cebf9a234c064b75016249f2ac65e  ...                 4\n",
              "1  77c7d756a093150d4377720abeaeef76  ...                 3\n",
              "2  b7e8a92987a530cc368719a0e60e26a3  ...                 2\n",
              "3  92561f21446e017dd6b68b94b23ad5b7  ...                 3\n",
              "4  030001ac2145a938b07e686a35a2d638  ...                 3\n",
              "\n",
              "[5 rows x 34 columns]"
            ]
          },
          "metadata": {
            "tags": []
          },
          "execution_count": 6
        }
      ]
    },
    {
      "cell_type": "code",
      "metadata": {
        "id": "I7_jdONqlCo5",
        "colab": {
          "base_uri": "https://localhost:8080/"
        },
        "outputId": "597d5073-f402-4633-ee2c-fc60b2c4ae4c"
      },
      "source": [
        "# Colunas\n",
        "dados.columns\n"
      ],
      "execution_count": 7,
      "outputs": [
        {
          "output_type": "execute_result",
          "data": {
            "text/plain": [
              "Index(['userid', ' openness', ' agreeableness', ' emotional_stability',\n",
              "       ' conscientiousness', ' extraversion', ' assigned metric',\n",
              "       ' assigned condition', ' movie_1', ' predicted_rating_1', ' movie_2',\n",
              "       ' predicted_rating_2', ' movie_3', ' predicted_rating_3', ' movie_4',\n",
              "       ' predicted_rating_4', ' movie_5', ' predicted_rating_5', ' movie_6',\n",
              "       ' predicted_rating_6', ' movie_7', ' predicted_rating_7', ' movie_8',\n",
              "       ' predicted_rating_8', ' movie_9', ' predicted_rating_9', ' movie_10',\n",
              "       ' predicted_rating_10', ' movie_11', ' predicted_rating_11',\n",
              "       ' movie_12', ' predicted_rating_12', ' is_personalized',\n",
              "       ' enjoy_watching '],\n",
              "      dtype='object')"
            ]
          },
          "metadata": {
            "tags": []
          },
          "execution_count": 7
        }
      ]
    },
    {
      "cell_type": "markdown",
      "metadata": {
        "id": "3QBNBQDfXLMH"
      },
      "source": [
        "##Renomeando Colunas"
      ]
    },
    {
      "cell_type": "code",
      "metadata": {
        "id": "eoshYURplkLC"
      },
      "source": [
        "# Devido aos nomes conterem um espaço \" \" antes de algumas colunas e terem nomes grandes, renoomei as colunas\n",
        "dados.rename(columns={'userid': 'ID', \n",
        "                      ' openness':'OPEN', \n",
        "                      ' agreeableness': 'AGREE', \n",
        "                      ' emotional_stability': 'EMOTION',\n",
        "                      ' conscientiousness': 'CONS', \n",
        "                      ' extraversion': 'EXT', \n",
        "                      ' assigned metric': 'sig_metric',\n",
        "                      ' assigned condition': 'sig_cond', \n",
        "                      ' movie_1': 'mov01', \n",
        "                      ' predicted_rating_1': 'pred01', \n",
        "                      ' movie_2': 'mov02',\n",
        "                      ' predicted_rating_2': 'pred02', \n",
        "                      ' movie_3': 'mov03', \n",
        "                      ' predicted_rating_3': 'pred03', \n",
        "                      ' movie_4': 'mov04',\n",
        "                      ' predicted_rating_4': 'pred04', \n",
        "                      ' movie_5': 'mov05', \n",
        "                      ' predicted_rating_5': 'pred05', \n",
        "                      ' movie_6': 'mov06',\n",
        "                      ' predicted_rating_6': 'pred06', \n",
        "                      ' movie_7': 'mov07', \n",
        "                      ' predicted_rating_7': 'pred07', \n",
        "                      ' movie_8':'mov07',\n",
        "                      ' predicted_rating_8': 'pred07',\n",
        "                      ' movie_9': 'mov08', \n",
        "                      ' predicted_rating_9': 'pred08', \n",
        "                      ' movie_10': 'mov010',\n",
        "                      ' predicted_rating_10': 'pred10', \n",
        "                      ' movie_11': 'mov11', \n",
        "                      ' predicted_rating_11': 'pred11',\n",
        "                      ' movie_12': 'mov12', \n",
        "                      ' predicted_rating_12': 'pred12', \n",
        "                      ' is_personalized': 'is_personalized',\n",
        "                      ' enjoy_watching ': 'enjoy_watching '},inplace= True)\n",
        "\n"
      ],
      "execution_count": 8,
      "outputs": []
    },
    {
      "cell_type": "code",
      "metadata": {
        "id": "Pj0pNxD5sNDw",
        "colab": {
          "base_uri": "https://localhost:8080/"
        },
        "outputId": "a480f4b3-4d55-456e-996c-de9043e9dd84"
      },
      "source": [
        "# Verificando colunas renomeadas\r\n",
        "dados.columns"
      ],
      "execution_count": 9,
      "outputs": [
        {
          "output_type": "execute_result",
          "data": {
            "text/plain": [
              "Index(['ID', 'OPEN', 'AGREE', 'EMOTION', 'CONS', 'EXT', 'sig_metric',\n",
              "       'sig_cond', 'mov01', 'pred01', 'mov02', 'pred02', 'mov03', 'pred03',\n",
              "       'mov04', 'pred04', 'mov05', 'pred05', 'mov06', 'pred06', 'mov07',\n",
              "       'pred07', 'mov07', 'pred07', 'mov08', 'pred08', 'mov010', 'pred10',\n",
              "       'mov11', 'pred11', 'mov12', 'pred12', 'is_personalized',\n",
              "       'enjoy_watching '],\n",
              "      dtype='object')"
            ]
          },
          "metadata": {
            "tags": []
          },
          "execution_count": 9
        }
      ]
    },
    {
      "cell_type": "markdown",
      "metadata": {
        "id": "BSRkcx7pXgY3"
      },
      "source": [
        "#Histogramas gerais dos cinco fatores"
      ]
    },
    {
      "cell_type": "code",
      "metadata": {
        "id": "lH4m7Ov5YCW5",
        "colab": {
          "base_uri": "https://localhost:8080/",
          "height": 162
        },
        "outputId": "99cfa0cc-96f5-4621-b007-116f6fe87443"
      },
      "source": [
        "sns.set_palette('Oranges');"
      ],
      "execution_count": 11,
      "outputs": [
        {
          "output_type": "error",
          "ename": "NameError",
          "evalue": "ignored",
          "traceback": [
            "\u001b[0;31m---------------------------------------------------------------------------\u001b[0m",
            "\u001b[0;31mNameError\u001b[0m                                 Traceback (most recent call last)",
            "\u001b[0;32m<ipython-input-11-0b1ffb8aa849>\u001b[0m in \u001b[0;36m<module>\u001b[0;34m()\u001b[0m\n\u001b[0;32m----> 1\u001b[0;31m \u001b[0msns\u001b[0m\u001b[0;34m.\u001b[0m\u001b[0mset_palette\u001b[0m\u001b[0;34m(\u001b[0m\u001b[0;34m'Oranges'\u001b[0m\u001b[0;34m)\u001b[0m\u001b[0;34m;\u001b[0m\u001b[0;34m\u001b[0m\u001b[0;34m\u001b[0m\u001b[0m\n\u001b[0m",
            "\u001b[0;31mNameError\u001b[0m: name 'sns' is not defined"
          ]
        }
      ]
    },
    {
      "cell_type": "code",
      "metadata": {
        "id": "kNvIak_aurq2",
        "colab": {
          "base_uri": "https://localhost:8080/",
          "height": 178
        },
        "outputId": "8c7eb20f-fa6f-44cb-e183-2377aa7e367c"
      },
      "source": [
        "# Openness\n",
        "sns.displot(dados, x =\"OPEN\",bins = 25);\n"
      ],
      "execution_count": 12,
      "outputs": [
        {
          "output_type": "error",
          "ename": "NameError",
          "evalue": "ignored",
          "traceback": [
            "\u001b[0;31m---------------------------------------------------------------------------\u001b[0m",
            "\u001b[0;31mNameError\u001b[0m                                 Traceback (most recent call last)",
            "\u001b[0;32m<ipython-input-12-e8c0767be398>\u001b[0m in \u001b[0;36m<module>\u001b[0;34m()\u001b[0m\n\u001b[1;32m      1\u001b[0m \u001b[0;31m# Openness\u001b[0m\u001b[0;34m\u001b[0m\u001b[0;34m\u001b[0m\u001b[0;34m\u001b[0m\u001b[0m\n\u001b[0;32m----> 2\u001b[0;31m \u001b[0msns\u001b[0m\u001b[0;34m.\u001b[0m\u001b[0mdisplot\u001b[0m\u001b[0;34m(\u001b[0m\u001b[0mdados\u001b[0m\u001b[0;34m,\u001b[0m \u001b[0mx\u001b[0m \u001b[0;34m=\u001b[0m\u001b[0;34m\"OPEN\"\u001b[0m\u001b[0;34m,\u001b[0m\u001b[0mbins\u001b[0m \u001b[0;34m=\u001b[0m \u001b[0;36m25\u001b[0m\u001b[0;34m)\u001b[0m\u001b[0;34m;\u001b[0m\u001b[0;34m\u001b[0m\u001b[0;34m\u001b[0m\u001b[0m\n\u001b[0m",
            "\u001b[0;31mNameError\u001b[0m: name 'sns' is not defined"
          ]
        }
      ]
    },
    {
      "cell_type": "code",
      "metadata": {
        "id": "PcbRnzy9YItO",
        "colab": {
          "base_uri": "https://localhost:8080/",
          "height": 369
        },
        "outputId": "9587f18a-ebca-4a36-cd31-2c9adc65a80f"
      },
      "source": [
        "# Agreeableness\n",
        "sns.displot(dados, x =\"AGREE\",bins = 25);"
      ],
      "execution_count": null,
      "outputs": [
        {
          "output_type": "display_data",
          "data": {
            "image/png": "[encoded data removed]",
            "text/plain": [
              "<Figure size 360x360 with 1 Axes>"
            ]
          },
          "metadata": {
            "tags": [],
            "needs_background": "light"
          }
        }
      ]
    },
    {
      "cell_type": "code",
      "metadata": {
        "id": "KCcEJ16eYXg8",
        "colab": {
          "base_uri": "https://localhost:8080/",
          "height": 369
        },
        "outputId": "0100c1fc-3a2e-4840-b81e-e21853955b0b"
      },
      "source": [
        "# Emotional - Stability\n",
        "sns.displot(dados, x =\"EMOTION\",bins = 25); "
      ],
      "execution_count": null,
      "outputs": [
        {
          "output_type": "display_data",
          "data": {
            "image/png": "[encoded data removed]",
            "text/plain": [
              "<Figure size 360x360 with 1 Axes>"
            ]
          },
          "metadata": {
            "tags": [],
            "needs_background": "light"
          }
        }
      ]
    },
    {
      "cell_type": "code",
      "metadata": {
        "id": "iTwyYol0ZIlg",
        "colab": {
          "base_uri": "https://localhost:8080/",
          "height": 369
        },
        "outputId": "c64e088c-646a-47a6-c8c6-27c904dfc49a"
      },
      "source": [
        "# Consciousness\n",
        "sns.displot(dados, x =\"CONS\",bins = 25); "
      ],
      "execution_count": null,
      "outputs": [
        {
          "output_type": "display_data",
          "data": {
            "image/png": "[encoded data removed]",
            "text/plain": [
              "<Figure size 360x360 with 1 Axes>"
            ]
          },
          "metadata": {
            "tags": [],
            "needs_background": "light"
          }
        }
      ]
    },
    {
      "cell_type": "code",
      "metadata": {
        "id": "cMUVspzvZMjG",
        "colab": {
          "base_uri": "https://localhost:8080/",
          "height": 369
        },
        "outputId": "938fa59e-cbb3-41b2-a94f-f1093026fc88"
      },
      "source": [
        "# Extraversion\n",
        "sns.displot(dados, x =\"EXT\",bins = 25); "
      ],
      "execution_count": null,
      "outputs": [
        {
          "output_type": "display_data",
          "data": {
            "image/png": "[encoded data removed]",
            "text/plain": [
              "<Figure size 360x360 with 1 Axes>"
            ]
          },
          "metadata": {
            "tags": [],
            "needs_background": "light"
          }
        }
      ]
    },
    {
      "cell_type": "markdown",
      "metadata": {
        "id": "LvMwiazcdUl2"
      },
      "source": [
        "#Criando Tipos"
      ]
    },
    {
      "cell_type": "markdown",
      "metadata": {
        "id": "jIXuLZzKB6xI"
      },
      "source": [
        "## Trabalhando dados para Apriori"
      ]
    },
    {
      "cell_type": "code",
      "metadata": {
        "id": "fn_PZbm9BoG7",
        "colab": {
          "base_uri": "https://localhost:8080/",
          "height": 52
        },
        "outputId": "7b41eef9-ec07-43a6-9cac-26ebbf5ad4b0"
      },
      "source": [
        "# Escolhendo as colunas do arquivo que contém apenas os dados do Big-Five\r\n",
        "big_five = ['OPEN','AGREE','EMOTION', 'CONS', 'EXT']\r\n",
        "personalidades = dados[big_five]\r\n",
        "\r\n",
        "'''\r\n",
        "Dados em formato numérico serão transformados num formato Inicial do do Fator+Número\r\n",
        "Deste modo facilitará o trabalho com o algortimo apriori que diferenciará cada nota de cada coluna\r\n",
        "'''"
      ],
      "execution_count": 13,
      "outputs": [
        {
          "output_type": "execute_result",
          "data": {
            "application/vnd.google.colaboratory.intrinsic+json": {
              "type": "string"
            },
            "text/plain": [
              "'\\nDados em formato numérico serão transformados num formato Inicial do do Fator+Número\\nDeste modo facilitará o trabalho com o algortimo apriori que diferenciará cada nota de cada coluna\\n'"
            ]
          },
          "metadata": {
            "tags": []
          },
          "execution_count": 13
        }
      ]
    },
    {
      "cell_type": "code",
      "metadata": {
        "colab": {
          "base_uri": "https://localhost:8080/",
          "height": 402
        },
        "id": "fZM2Yn3Lw4OV",
        "outputId": "0279e1a1-5a6a-4556-a2b8-e3aea76a0194"
      },
      "source": [
        "personalidades #verificando como fica o data frame"
      ],
      "execution_count": 14,
      "outputs": [
        {
          "output_type": "execute_result",
          "data": {
            "text/html": [
              "<div>\n",
              "<style scoped>\n",
              "    .dataframe tbody tr th:only-of-type {\n",
              "        vertical-align: middle;\n",
              "    }\n",
              "\n",
              "    .dataframe tbody tr th {\n",
              "        vertical-align: top;\n",
              "    }\n",
              "\n",
              "    .dataframe thead th {\n",
              "        text-align: right;\n",
              "    }\n",
              "</style>\n",
              "<table border=\"1\" class=\"dataframe\">\n",
              "  <thead>\n",
              "    <tr style=\"text-align: right;\">\n",
              "      <th></th>\n",
              "      <th>OPEN</th>\n",
              "      <th>AGREE</th>\n",
              "      <th>EMOTION</th>\n",
              "      <th>CONS</th>\n",
              "      <th>EXT</th>\n",
              "    </tr>\n",
              "  </thead>\n",
              "  <tbody>\n",
              "    <tr>\n",
              "      <th>0</th>\n",
              "      <td>5.0</td>\n",
              "      <td>2.0</td>\n",
              "      <td>3.0</td>\n",
              "      <td>2.5</td>\n",
              "      <td>6.5</td>\n",
              "    </tr>\n",
              "    <tr>\n",
              "      <th>1</th>\n",
              "      <td>7.0</td>\n",
              "      <td>4.0</td>\n",
              "      <td>6.0</td>\n",
              "      <td>5.5</td>\n",
              "      <td>4.0</td>\n",
              "    </tr>\n",
              "    <tr>\n",
              "      <th>2</th>\n",
              "      <td>4.0</td>\n",
              "      <td>3.0</td>\n",
              "      <td>4.5</td>\n",
              "      <td>2.0</td>\n",
              "      <td>2.5</td>\n",
              "    </tr>\n",
              "    <tr>\n",
              "      <th>3</th>\n",
              "      <td>5.5</td>\n",
              "      <td>5.5</td>\n",
              "      <td>4.0</td>\n",
              "      <td>4.5</td>\n",
              "      <td>4.0</td>\n",
              "    </tr>\n",
              "    <tr>\n",
              "      <th>4</th>\n",
              "      <td>5.5</td>\n",
              "      <td>5.5</td>\n",
              "      <td>3.5</td>\n",
              "      <td>4.5</td>\n",
              "      <td>2.5</td>\n",
              "    </tr>\n",
              "    <tr>\n",
              "      <th>...</th>\n",
              "      <td>...</td>\n",
              "      <td>...</td>\n",
              "      <td>...</td>\n",
              "      <td>...</td>\n",
              "      <td>...</td>\n",
              "    </tr>\n",
              "    <tr>\n",
              "      <th>1829</th>\n",
              "      <td>5.5</td>\n",
              "      <td>3.5</td>\n",
              "      <td>2.5</td>\n",
              "      <td>4.0</td>\n",
              "      <td>5.5</td>\n",
              "    </tr>\n",
              "    <tr>\n",
              "      <th>1830</th>\n",
              "      <td>4.0</td>\n",
              "      <td>3.5</td>\n",
              "      <td>4.5</td>\n",
              "      <td>4.0</td>\n",
              "      <td>2.5</td>\n",
              "    </tr>\n",
              "    <tr>\n",
              "      <th>1831</th>\n",
              "      <td>6.0</td>\n",
              "      <td>3.0</td>\n",
              "      <td>5.5</td>\n",
              "      <td>3.5</td>\n",
              "      <td>6.0</td>\n",
              "    </tr>\n",
              "    <tr>\n",
              "      <th>1832</th>\n",
              "      <td>5.0</td>\n",
              "      <td>3.5</td>\n",
              "      <td>1.5</td>\n",
              "      <td>3.5</td>\n",
              "      <td>2.5</td>\n",
              "    </tr>\n",
              "    <tr>\n",
              "      <th>1833</th>\n",
              "      <td>6.5</td>\n",
              "      <td>6.5</td>\n",
              "      <td>2.5</td>\n",
              "      <td>6.5</td>\n",
              "      <td>2.0</td>\n",
              "    </tr>\n",
              "  </tbody>\n",
              "</table>\n",
              "<p>1834 rows × 5 columns</p>\n",
              "</div>"
            ],
            "text/plain": [
              "      OPEN  AGREE  EMOTION  CONS  EXT\n",
              "0      5.0    2.0      3.0   2.5  6.5\n",
              "1      7.0    4.0      6.0   5.5  4.0\n",
              "2      4.0    3.0      4.5   2.0  2.5\n",
              "3      5.5    5.5      4.0   4.5  4.0\n",
              "4      5.5    5.5      3.5   4.5  2.5\n",
              "...    ...    ...      ...   ...  ...\n",
              "1829   5.5    3.5      2.5   4.0  5.5\n",
              "1830   4.0    3.5      4.5   4.0  2.5\n",
              "1831   6.0    3.0      5.5   3.5  6.0\n",
              "1832   5.0    3.5      1.5   3.5  2.5\n",
              "1833   6.5    6.5      2.5   6.5  2.0\n",
              "\n",
              "[1834 rows x 5 columns]"
            ]
          },
          "metadata": {
            "tags": []
          },
          "execution_count": 14
        }
      ]
    },
    {
      "cell_type": "code",
      "metadata": {
        "colab": {
          "base_uri": "https://localhost:8080/"
        },
        "id": "ldVVDv7HC9J4",
        "outputId": "91e71640-edd3-44e4-ac13-b2655ffe0d11"
      },
      "source": [
        "personalidades.mean() # Médias dos valores"
      ],
      "execution_count": 17,
      "outputs": [
        {
          "output_type": "execute_result",
          "data": {
            "text/plain": [
              "OPEN       5.376499\n",
              "AGREE      4.215921\n",
              "EMOTION    4.561614\n",
              "CONS       4.662486\n",
              "EXT        3.485551\n",
              "dtype: float64"
            ]
          },
          "metadata": {
            "tags": []
          },
          "execution_count": 17
        }
      ]
    },
    {
      "cell_type": "code",
      "metadata": {
        "id": "SJpWy_tKGSjG",
        "colab": {
          "base_uri": "https://localhost:8080/",
          "height": 35
        },
        "outputId": "051138e4-3620-47e2-91fc-4b9c4cc6e41d"
      },
      "source": [
        "# transformando colunas em listas\n",
        "lista_open = personalidades['OPEN'].tolist()\n",
        "lista_agree = personalidades['AGREE'].tolist()\n",
        "lista_emotion = personalidades['EMOTION'].tolist()\n",
        "lista_cons = personalidades['CONS'].tolist()\n",
        "lista_ext = personalidades['EXT'].tolist()\n",
        "\n",
        "#listas vazias para adicionar strings\n",
        "bf_open = [] \n",
        "bf_agree = [] \n",
        "bf_emotion = [] \n",
        "bf_cons = [] \n",
        "bf_ext = [] \n",
        "\n",
        "# transformando colunas em strings + inicial do fator(Big-Five)\n",
        "for x in lista_open:\n",
        "  x = str(x)\n",
        "  bf_open.append(x + 'O')\n",
        "\n",
        "for x in lista_agree:\n",
        "  x = str(x)\n",
        "  bf_agree.append(x + 'A')\n",
        "\n",
        "for x in lista_emotion:\n",
        "  x = str(x)\n",
        "  bf_emotion.append(x + 'E')\n",
        "\n",
        "for x in lista_cons:\n",
        "  x = str(x)\n",
        "  bf_cons.append(x + 'C')\n",
        "\n",
        "for x in lista_ext:\n",
        "  x = str(x)\n",
        "  bf_ext.append(x + 'V')\n",
        "   \n",
        "'''\n",
        "Ou seja, \n",
        "\n",
        "O para Openness\n",
        "A para Agreeableness\n",
        "E para Emotional Stability\n",
        "C para Consciousness\n",
        "V para Extraversion\n",
        "\n",
        "'''"
      ],
      "execution_count": 35,
      "outputs": [
        {
          "output_type": "execute_result",
          "data": {
            "application/vnd.google.colaboratory.intrinsic+json": {
              "type": "string"
            },
            "text/plain": [
              "'\\nOu seja, \\n\\nO para Openness\\nA para Agreeableness\\nE para Emotional Stability\\nC para Consciousness\\nV para Extraversion\\n\\n'"
            ]
          },
          "metadata": {
            "tags": []
          },
          "execution_count": 35
        }
      ]
    },
    {
      "cell_type": "code",
      "metadata": {
        "id": "fjpAFKBod3lo"
      },
      "source": [
        "bf_open"
      ],
      "execution_count": null,
      "outputs": []
    },
    {
      "cell_type": "code",
      "metadata": {
        "colab": {
          "base_uri": "https://localhost:8080/",
          "height": 402
        },
        "id": "21KZKalhmJJd",
        "outputId": "795450fb-248e-41f1-eb7c-c5866a5ef3a3"
      },
      "source": [
        "# transformando num DataFrame novamente\r\n",
        "df = pd.DataFrame(list(zip(bf_open, bf_agree,bf_emotion,bf_cons,bf_ext)), \r\n",
        "               columns =['Open', 'Agree','Emotion','Cons','Extv']) \r\n",
        "df"
      ],
      "execution_count": 20,
      "outputs": [
        {
          "output_type": "execute_result",
          "data": {
            "text/html": [
              "<div>\n",
              "<style scoped>\n",
              "    .dataframe tbody tr th:only-of-type {\n",
              "        vertical-align: middle;\n",
              "    }\n",
              "\n",
              "    .dataframe tbody tr th {\n",
              "        vertical-align: top;\n",
              "    }\n",
              "\n",
              "    .dataframe thead th {\n",
              "        text-align: right;\n",
              "    }\n",
              "</style>\n",
              "<table border=\"1\" class=\"dataframe\">\n",
              "  <thead>\n",
              "    <tr style=\"text-align: right;\">\n",
              "      <th></th>\n",
              "      <th>Open</th>\n",
              "      <th>Agree</th>\n",
              "      <th>Emotion</th>\n",
              "      <th>Cons</th>\n",
              "      <th>Extv</th>\n",
              "    </tr>\n",
              "  </thead>\n",
              "  <tbody>\n",
              "    <tr>\n",
              "      <th>0</th>\n",
              "      <td>5.0O</td>\n",
              "      <td>2.0A</td>\n",
              "      <td>3.0E</td>\n",
              "      <td>2.5C</td>\n",
              "      <td>6.5V</td>\n",
              "    </tr>\n",
              "    <tr>\n",
              "      <th>1</th>\n",
              "      <td>7.0O</td>\n",
              "      <td>4.0A</td>\n",
              "      <td>6.0E</td>\n",
              "      <td>5.5C</td>\n",
              "      <td>4.0V</td>\n",
              "    </tr>\n",
              "    <tr>\n",
              "      <th>2</th>\n",
              "      <td>4.0O</td>\n",
              "      <td>3.0A</td>\n",
              "      <td>4.5E</td>\n",
              "      <td>2.0C</td>\n",
              "      <td>2.5V</td>\n",
              "    </tr>\n",
              "    <tr>\n",
              "      <th>3</th>\n",
              "      <td>5.5O</td>\n",
              "      <td>5.5A</td>\n",
              "      <td>4.0E</td>\n",
              "      <td>4.5C</td>\n",
              "      <td>4.0V</td>\n",
              "    </tr>\n",
              "    <tr>\n",
              "      <th>4</th>\n",
              "      <td>5.5O</td>\n",
              "      <td>5.5A</td>\n",
              "      <td>3.5E</td>\n",
              "      <td>4.5C</td>\n",
              "      <td>2.5V</td>\n",
              "    </tr>\n",
              "    <tr>\n",
              "      <th>...</th>\n",
              "      <td>...</td>\n",
              "      <td>...</td>\n",
              "      <td>...</td>\n",
              "      <td>...</td>\n",
              "      <td>...</td>\n",
              "    </tr>\n",
              "    <tr>\n",
              "      <th>1829</th>\n",
              "      <td>5.5O</td>\n",
              "      <td>3.5A</td>\n",
              "      <td>2.5E</td>\n",
              "      <td>4.0C</td>\n",
              "      <td>5.5V</td>\n",
              "    </tr>\n",
              "    <tr>\n",
              "      <th>1830</th>\n",
              "      <td>4.0O</td>\n",
              "      <td>3.5A</td>\n",
              "      <td>4.5E</td>\n",
              "      <td>4.0C</td>\n",
              "      <td>2.5V</td>\n",
              "    </tr>\n",
              "    <tr>\n",
              "      <th>1831</th>\n",
              "      <td>6.0O</td>\n",
              "      <td>3.0A</td>\n",
              "      <td>5.5E</td>\n",
              "      <td>3.5C</td>\n",
              "      <td>6.0V</td>\n",
              "    </tr>\n",
              "    <tr>\n",
              "      <th>1832</th>\n",
              "      <td>5.0O</td>\n",
              "      <td>3.5A</td>\n",
              "      <td>1.5E</td>\n",
              "      <td>3.5C</td>\n",
              "      <td>2.5V</td>\n",
              "    </tr>\n",
              "    <tr>\n",
              "      <th>1833</th>\n",
              "      <td>6.5O</td>\n",
              "      <td>6.5A</td>\n",
              "      <td>2.5E</td>\n",
              "      <td>6.5C</td>\n",
              "      <td>2.0V</td>\n",
              "    </tr>\n",
              "  </tbody>\n",
              "</table>\n",
              "<p>1834 rows × 5 columns</p>\n",
              "</div>"
            ],
            "text/plain": [
              "      Open Agree Emotion  Cons  Extv\n",
              "0     5.0O  2.0A    3.0E  2.5C  6.5V\n",
              "1     7.0O  4.0A    6.0E  5.5C  4.0V\n",
              "2     4.0O  3.0A    4.5E  2.0C  2.5V\n",
              "3     5.5O  5.5A    4.0E  4.5C  4.0V\n",
              "4     5.5O  5.5A    3.5E  4.5C  2.5V\n",
              "...    ...   ...     ...   ...   ...\n",
              "1829  5.5O  3.5A    2.5E  4.0C  5.5V\n",
              "1830  4.0O  3.5A    4.5E  4.0C  2.5V\n",
              "1831  6.0O  3.0A    5.5E  3.5C  6.0V\n",
              "1832  5.0O  3.5A    1.5E  3.5C  2.5V\n",
              "1833  6.5O  6.5A    2.5E  6.5C  2.0V\n",
              "\n",
              "[1834 rows x 5 columns]"
            ]
          },
          "metadata": {
            "tags": []
          },
          "execution_count": 20
        }
      ]
    },
    {
      "cell_type": "markdown",
      "metadata": {
        "id": "Uhp5s1hLVV4I"
      },
      "source": [
        "# O algoritmo Apriori\r\n",
        "\r\n",
        "O algoritmo apriori é um algoritmo de regra de associação, que de maneira geral, cria regras de associação entre itens numa lista.\r\n",
        "\r\n",
        "No caso as regras foram criadas na pontuação de cada fator.\r\n",
        "\r\n",
        "Por exemplo:\r\n",
        "\r\n",
        "\"Dado que uma pessoa pontuou 6 no item Openness, quais pontuações mais prováveis em Agreeableness\" ?\r\n",
        "\r\n",
        "Obviamente que o participante poderia pontuar de 1 a 7, mas neste caso a pergunta é mais específica. Quando ele pontua um valor em uma fator, qual o provável fator na outra ?\r\n",
        "\r\n",
        "As medidas do do algoritmo são:\r\n",
        "\r\n",
        "**Support**\r\n",
        "O suporte é uma indicação da frequência (em porcentagem)com que o conjunto de itens aparece no conjunto de dados.\r\n",
        "\r\n",
        "**Confidence**\r\n",
        "A confiança é uma indicação de quantas vezes a regra foi considerada verdadeira.\r\n",
        "\"Se A ocorreu, qual a chance(%) de B ocorrer?\"\r\n",
        "\r\n",
        "**Lift**\r\n",
        "A medida de Lift indica qual a chance de B ocorrer, se A ocorrer. Se for maior ou igual a 1 então é provável de ocorrer.\r\n"
      ]
    },
    {
      "cell_type": "markdown",
      "metadata": {
        "id": "z1xozBu6BTF_"
      },
      "source": [
        "# Executando algoritmo Apriori"
      ]
    },
    {
      "cell_type": "code",
      "metadata": {
        "colab": {
          "base_uri": "https://localhost:8080/"
        },
        "id": "D2BQOkTP181g",
        "outputId": "6083d493-5d68-405b-b1ea-52af8233dc9f"
      },
      "source": [
        "pip install apyori\n"
      ],
      "execution_count": 22,
      "outputs": [
        {
          "output_type": "stream",
          "text": [
            "Collecting apyori\n",
            "  Downloading https://files.pythonhosted.org/packages/5e/62/5ffde5c473ea4b033490617ec5caa80d59804875ad3c3c57c0976533a21a/apyori-1.1.2.tar.gz\n",
            "Building wheels for collected packages: apyori\n",
            "  Building wheel for apyori (setup.py) ... \u001b[?25l\u001b[?25hdone\n",
            "  Created wheel for apyori: filename=apyori-1.1.2-cp36-none-any.whl size=5977 sha256=41cd38904e7a3ec58ed02abf5e215fd44be18f4beb4287fe781f9e59d662849e\n",
            "  Stored in directory: /root/.cache/pip/wheels/5d/92/bb/474bbadbc8c0062b9eb168f69982a0443263f8ab1711a8cad0\n",
            "Successfully built apyori\n",
            "Installing collected packages: apyori\n",
            "Successfully installed apyori-1.1.2\n"
          ],
          "name": "stdout"
        }
      ]
    },
    {
      "cell_type": "code",
      "metadata": {
        "colab": {
          "base_uri": "https://localhost:8080/"
        },
        "id": "cgxQuBML5Qdj",
        "outputId": "8f01082e-c4d8-4409-a732-83ff70babcf9"
      },
      "source": [
        "# verificando a forma: 1834 linhas e 5 colunas\r\n",
        "df.shape"
      ],
      "execution_count": 23,
      "outputs": [
        {
          "output_type": "execute_result",
          "data": {
            "text/plain": [
              "(1834, 5)"
            ]
          },
          "metadata": {
            "tags": []
          },
          "execution_count": 23
        }
      ]
    },
    {
      "cell_type": "code",
      "metadata": {
        "id": "AEItaPqP5A8x"
      },
      "source": [
        "# lista vazia para inserir os valores do data frame em formato de array(matriz)\r\n",
        "tipos = []"
      ],
      "execution_count": 24,
      "outputs": []
    },
    {
      "cell_type": "code",
      "metadata": {
        "id": "vtX6t_M65A7X"
      },
      "source": [
        "for i in range(0,1834):\n",
        "   tipos.append([str(df.values[i,j]) for j in range(0,5)])"
      ],
      "execution_count": 25,
      "outputs": []
    },
    {
      "cell_type": "code",
      "metadata": {
        "colab": {
          "base_uri": "https://localhost:8080/"
        },
        "id": "9hVhjvRm6Ww8",
        "outputId": "707096a8-57d6-4873-b130-5eda3c5f3ffc"
      },
      "source": [
        "len(tipos)"
      ],
      "execution_count": 26,
      "outputs": [
        {
          "output_type": "execute_result",
          "data": {
            "text/plain": [
              "1834"
            ]
          },
          "metadata": {
            "tags": []
          },
          "execution_count": 26
        }
      ]
    },
    {
      "cell_type": "markdown",
      "metadata": {
        "id": "k3Ou9amMtQSd"
      },
      "source": [
        "##Regras Apriori e Parâmetros"
      ]
    },
    {
      "cell_type": "code",
      "metadata": {
        "id": "-aApFECL6hVS"
      },
      "source": [
        "# Importando o algoritmo\r\n",
        "from apyori import apriori "
      ],
      "execution_count": 27,
      "outputs": []
    },
    {
      "cell_type": "code",
      "metadata": {
        "id": "9zOcSydi69C6"
      },
      "source": [
        "# Criação de Regras de Associação pelo algoritmo\n",
        "# parametros do algoritmo apriori\n",
        "regras = apriori(tipos, \n",
        "                 min_support=0.0085, \n",
        "                 min_confidence= 0.25, \n",
        "                 min_lift=2, \n",
        "                 min_length= 5)"
      ],
      "execution_count": 46,
      "outputs": []
    },
    {
      "cell_type": "code",
      "metadata": {
        "id": "UjclIxXstwsC"
      },
      "source": [
        "# Transformando em listas\r\n",
        "resultados = list(regras)"
      ],
      "execution_count": 47,
      "outputs": []
    },
    {
      "cell_type": "code",
      "metadata": {
        "colab": {
          "base_uri": "https://localhost:8080/"
        },
        "id": "2_iVcqskobUP",
        "outputId": "5ff34d87-be5f-40fc-894a-13f864138f83"
      },
      "source": [
        "# Verificando quantidade de regras geradas\r\n",
        "len(resultados)"
      ],
      "execution_count": 48,
      "outputs": [
        {
          "output_type": "execute_result",
          "data": {
            "text/plain": [
              "9"
            ]
          },
          "metadata": {
            "tags": []
          },
          "execution_count": 48
        }
      ]
    },
    {
      "cell_type": "code",
      "metadata": {
        "id": "lz7IIBZT7eGN"
      },
      "source": [
        "resultados_2 = [list(x) for x in resultados]\n"
      ],
      "execution_count": 49,
      "outputs": []
    },
    {
      "cell_type": "code",
      "metadata": {
        "id": "6wlWHFkpDy4P"
      },
      "source": [
        "\n",
        "df_apriori = pd.DataFrame(resultados_2)"
      ],
      "execution_count": 50,
      "outputs": []
    },
    {
      "cell_type": "code",
      "metadata": {
        "colab": {
          "base_uri": "https://localhost:8080/",
          "height": 314
        },
        "id": "TqosvDysErxk",
        "outputId": "2d5f048b-699a-4dad-c407-404bc9510719"
      },
      "source": [
        "# O Resultado do algoritmo\r\n",
        "df_apriori"
      ],
      "execution_count": 51,
      "outputs": [
        {
          "output_type": "execute_result",
          "data": {
            "text/html": [
              "<div>\n",
              "<style scoped>\n",
              "    .dataframe tbody tr th:only-of-type {\n",
              "        vertical-align: middle;\n",
              "    }\n",
              "\n",
              "    .dataframe tbody tr th {\n",
              "        vertical-align: top;\n",
              "    }\n",
              "\n",
              "    .dataframe thead th {\n",
              "        text-align: right;\n",
              "    }\n",
              "</style>\n",
              "<table border=\"1\" class=\"dataframe\">\n",
              "  <thead>\n",
              "    <tr style=\"text-align: right;\">\n",
              "      <th></th>\n",
              "      <th>0</th>\n",
              "      <th>1</th>\n",
              "      <th>2</th>\n",
              "    </tr>\n",
              "  </thead>\n",
              "  <tbody>\n",
              "    <tr>\n",
              "      <th>0</th>\n",
              "      <td>(6.5A, 6.0E)</td>\n",
              "      <td>0.010360</td>\n",
              "      <td>[((6.5A), (6.0E), 0.25, 2.247549019607843)]</td>\n",
              "    </tr>\n",
              "    <tr>\n",
              "      <th>1</th>\n",
              "      <td>(4.0A, 4.0E, 4.0C)</td>\n",
              "      <td>0.010360</td>\n",
              "      <td>[((4.0A, 4.0C), (4.0E), 0.2835820895522388, 2....</td>\n",
              "    </tr>\n",
              "    <tr>\n",
              "      <th>2</th>\n",
              "      <td>(4.0A, 4.0O, 4.0C)</td>\n",
              "      <td>0.008724</td>\n",
              "      <td>[((4.0A, 4.0O), (4.0C), 0.4102564102564103, 2....</td>\n",
              "    </tr>\n",
              "    <tr>\n",
              "      <th>3</th>\n",
              "      <td>(4.0A, 4.0C, 4.0V)</td>\n",
              "      <td>0.010905</td>\n",
              "      <td>[((4.0A, 4.0C), (4.0V), 0.29850746268656714, 2...</td>\n",
              "    </tr>\n",
              "    <tr>\n",
              "      <th>4</th>\n",
              "      <td>(4.0A, 4.0O, 4.0E)</td>\n",
              "      <td>0.010905</td>\n",
              "      <td>[((4.0A, 4.0E), (4.0O), 0.30303030303030304, 3...</td>\n",
              "    </tr>\n",
              "    <tr>\n",
              "      <th>5</th>\n",
              "      <td>(4.0A, 4.0E, 4.0V)</td>\n",
              "      <td>0.010360</td>\n",
              "      <td>[((4.0A, 4.0E), (4.0V), 0.28787878787878785, 2...</td>\n",
              "    </tr>\n",
              "    <tr>\n",
              "      <th>6</th>\n",
              "      <td>(4.0O, 4.0E, 4.0C)</td>\n",
              "      <td>0.009269</td>\n",
              "      <td>[((4.0E, 4.0C), (4.0O), 0.41463414634146345, 5...</td>\n",
              "    </tr>\n",
              "    <tr>\n",
              "      <th>7</th>\n",
              "      <td>(4.0E, 4.0C, 4.0V)</td>\n",
              "      <td>0.008724</td>\n",
              "      <td>[((4.0E, 4.0C), (4.0V), 0.3902439024390244, 3....</td>\n",
              "    </tr>\n",
              "    <tr>\n",
              "      <th>8</th>\n",
              "      <td>(4.5V, 6.0O, 4.5A)</td>\n",
              "      <td>0.008724</td>\n",
              "      <td>[((4.5V, 4.5A), (6.0O), 0.36363636363636365, 2...</td>\n",
              "    </tr>\n",
              "  </tbody>\n",
              "</table>\n",
              "</div>"
            ],
            "text/plain": [
              "                    0  ...                                                  2\n",
              "0        (6.5A, 6.0E)  ...        [((6.5A), (6.0E), 0.25, 2.247549019607843)]\n",
              "1  (4.0A, 4.0E, 4.0C)  ...  [((4.0A, 4.0C), (4.0E), 0.2835820895522388, 2....\n",
              "2  (4.0A, 4.0O, 4.0C)  ...  [((4.0A, 4.0O), (4.0C), 0.4102564102564103, 2....\n",
              "3  (4.0A, 4.0C, 4.0V)  ...  [((4.0A, 4.0C), (4.0V), 0.29850746268656714, 2...\n",
              "4  (4.0A, 4.0O, 4.0E)  ...  [((4.0A, 4.0E), (4.0O), 0.30303030303030304, 3...\n",
              "5  (4.0A, 4.0E, 4.0V)  ...  [((4.0A, 4.0E), (4.0V), 0.28787878787878785, 2...\n",
              "6  (4.0O, 4.0E, 4.0C)  ...  [((4.0E, 4.0C), (4.0O), 0.41463414634146345, 5...\n",
              "7  (4.0E, 4.0C, 4.0V)  ...  [((4.0E, 4.0C), (4.0V), 0.3902439024390244, 3....\n",
              "8  (4.5V, 6.0O, 4.5A)  ...  [((4.5V, 4.5A), (6.0O), 0.36363636363636365, 2...\n",
              "\n",
              "[9 rows x 3 columns]"
            ]
          },
          "metadata": {
            "tags": []
          },
          "execution_count": 51
        }
      ]
    },
    {
      "cell_type": "code",
      "metadata": {
        "colab": {
          "base_uri": "https://localhost:8080/"
        },
        "id": "PkuZT1amFWs8",
        "outputId": "a4f878b6-f183-4867-bde3-54e0b093f184"
      },
      "source": [
        "# Regras encontradas\r\n",
        "print(df_apriori.loc[:][0])"
      ],
      "execution_count": 52,
      "outputs": [
        {
          "output_type": "stream",
          "text": [
            "0          (6.5A, 6.0E)\n",
            "1    (4.0A, 4.0E, 4.0C)\n",
            "2    (4.0A, 4.0O, 4.0C)\n",
            "3    (4.0A, 4.0C, 4.0V)\n",
            "4    (4.0A, 4.0O, 4.0E)\n",
            "5    (4.0A, 4.0E, 4.0V)\n",
            "6    (4.0O, 4.0E, 4.0C)\n",
            "7    (4.0E, 4.0C, 4.0V)\n",
            "8    (4.5V, 6.0O, 4.5A)\n",
            "Name: 0, dtype: object\n"
          ],
          "name": "stdout"
        }
      ]
    },
    {
      "cell_type": "markdown",
      "metadata": {
        "id": "eg0HcbPHrpFT"
      },
      "source": [
        "#Discussão\r\n",
        "\r\n",
        "Com a alteração dos parametros dos algoritmo foi possível encontrar até 290 regras porém este número não é muito útil. Com algumas alteracoes, valores entre 7 e 9 regras parecem interessantes.\r\n",
        "\r\n",
        "A regra da linha 3 indica, de maneira geral, que:\r\n",
        "**Se a pontuação for 4.0 em Agradabilidade, o indivíduo tende a pontuar 4.0 em Conscienciosidade e 4 em Extraversão.** \r\n",
        "\r\n",
        "Esteresultado pode indicar um tipo de personalidade, como é indicado em alguns estudos,portanto, tende a ser comum encontrar este padrão, ou algo bem próximo disso nos resultados.\r\n",
        "\r\n",
        "O próximo passo é aplicar outros algoritmos para explorar melhor estas relações encontradas também seria interessante verificar este padrão em estudos e outros resultados.\r\n",
        "\r\n",
        "Outra possibilidade é verificar o padrão encontrado nas notas dos usuários para as listas de filmes. "
      ]
    }
  ]
}